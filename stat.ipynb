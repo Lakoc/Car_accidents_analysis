{
 "cells": [
  {
   "cell_type": "markdown",
   "source": [
    "# Chí-kvadrát test\n",
    "Cílem tohoto notebooku je ověřit s 95% jistotou následující hypotézu pomocí chí-kvadrát testu\n",
    "na datasetu nehod v České republice:\n",
    "\n",
    ">Pokud viník nehody byl pod silným vlivem alkoholu, došlo častěji k těžkým zdravotním\n",
    "následkům.\n",
    "\n",
    "Tato hypotéza je zároveň naší alternativní hypotézou.\n",
    "\n",
    "Nulovou hypotézu definujeme takto a :\n",
    ">H0 = Pokud viník nehody byl pod silným vlivem alkoholu, nedošlo častěji k těžkým zdravotním\n",
    "následkům.\n",
    "\n",
    "Faktor významnosti této hypotézy je roven 1 - 0.95, tedy 0.05."
   ],
   "metadata": {
    "collapsed": false
   }
  },
  {
   "cell_type": "code",
   "execution_count": 1,
   "outputs": [],
   "source": [
    "alpha = 0.05"
   ],
   "metadata": {
    "collapsed": false,
    "pycharm": {
     "name": "#%%\n"
    }
   }
  },
  {
   "cell_type": "markdown",
   "source": [
    "Import potřebných knihoven"
   ],
   "metadata": {
    "collapsed": false
   }
  },
  {
   "cell_type": "code",
   "execution_count": 7,
   "outputs": [],
   "source": [
    "import pandas as pd\n",
    "from scipy.stats import chi2_contingency"
   ],
   "metadata": {
    "collapsed": false,
    "pycharm": {
     "name": "#%%\n"
    }
   }
  },
  {
   "cell_type": "markdown",
   "source": [
    "Načtení datasetu z souboru accidents.pkl.gz,\n",
    "výběr sloupců nutných pro ověření hypotézy a následné odstranění nehod pod vlivem drog:\n",
    "\"p11 == 4 or p11 == 5\""
   ],
   "metadata": {
    "collapsed": false
   }
  },
  {
   "cell_type": "code",
   "execution_count": 8,
   "outputs": [],
   "source": [
    "df = pd.read_pickle(\"accidents.pkl.gz\")\n",
    "df_clean = df[['p11', 'p13a', 'p13b']]\n",
    "df_clean = df_clean[(df_clean['p11'] != 4) & (df_clean['p11'] != 5)]\n",
    "\n",
    "\n"
   ],
   "metadata": {
    "collapsed": false,
    "pycharm": {
     "name": "#%%\n"
    }
   }
  },
  {
   "cell_type": "markdown",
   "source": [
    "Pro tvorbu kontigenční tabulky:\n",
    "1. Sečteme sloupce p13a (usmrceno osob) a p13b (těžce zraněno osob)\n",
    "2. Kategorizujeme data podle požadovaného klíče:\n",
    "    1. \"p11 >= 7\" viník nehody byl pod silným vlivem alkoholu\n",
    "    2. \"iod >= 1\" byla usmrcena nebo těžce zraněna  více než jedna osoba"
   ],
   "metadata": {
    "collapsed": false
   }
  },
  {
   "cell_type": "code",
   "execution_count": 9,
   "outputs": [],
   "source": [
    "df_clean['iod'] = df_clean['p13a'] + df_clean['p13b']\n",
    "\n",
    "df_clean['drunk'] = df_clean['p11'] >= 7\n",
    "df_clean['hurt'] = df_clean['iod'] >= 1"
   ],
   "metadata": {
    "collapsed": false,
    "pycharm": {
     "name": "#%%\n"
    }
   }
  },
  {
   "cell_type": "markdown",
   "source": [
    "Vytvořime kontigenční tabulku"
   ],
   "metadata": {
    "collapsed": false
   }
  },
  {
   "cell_type": "code",
   "execution_count": 5,
   "outputs": [
    {
     "data": {
      "text/plain": "hurt    False  True \ndrunk               \nFalse  457528  10777\nTrue    16492    886",
      "text/html": "<div>\n<style scoped>\n    .dataframe tbody tr th:only-of-type {\n        vertical-align: middle;\n    }\n\n    .dataframe tbody tr th {\n        vertical-align: top;\n    }\n\n    .dataframe thead th {\n        text-align: right;\n    }\n</style>\n<table border=\"1\" class=\"dataframe\">\n  <thead>\n    <tr style=\"text-align: right;\">\n      <th>hurt</th>\n      <th>False</th>\n      <th>True</th>\n    </tr>\n    <tr>\n      <th>drunk</th>\n      <th></th>\n      <th></th>\n    </tr>\n  </thead>\n  <tbody>\n    <tr>\n      <th>False</th>\n      <td>457528</td>\n      <td>10777</td>\n    </tr>\n    <tr>\n      <th>True</th>\n      <td>16492</td>\n      <td>886</td>\n    </tr>\n  </tbody>\n</table>\n</div>"
     },
     "execution_count": 5,
     "metadata": {},
     "output_type": "execute_result"
    }
   ],
   "source": [
    "crosstab = pd.crosstab(index=df_clean['drunk'], columns=[df_clean['hurt']])\n",
    "crosstab\n"
   ],
   "metadata": {
    "collapsed": false,
    "pycharm": {
     "name": "#%%\n"
    }
   }
  },
  {
   "cell_type": "markdown",
   "source": [
    "Provedeme chi-kvadrát test, pomocí modulu scipy.stats a porovnáme p-hodnotu s faktorem významnosti.\n",
    "\n"
   ],
   "metadata": {
    "collapsed": false
   }
  },
  {
   "cell_type": "code",
   "execution_count": 10,
   "outputs": [
    {
     "name": "stdout",
     "output_type": "stream",
     "text": [
      "p-hodnota = 0.00\n",
      "0.00 <= 0.05\n",
      "Zamítame H0, a tedy potvrzujeme alternativní hypotézu:\n"
     ]
    }
   ],
   "source": [
    "_, p, _, _ = chi2_contingency(crosstab)\n",
    "#interpret p-value\n",
    "print(f'p-hodnota = {p:.2f}')\n",
    "if p <= alpha:\n",
    "    print(f'{p:.2f} <= {alpha}')\n",
    "    print('Zamítame H0, a tedy potvrzujeme alternativní hypotézu:')\n",
    "else:\n",
    "    print(f'{p:.2f} > {alpha}')\n",
    "    print('Potvrzujeme H0, mezi sledovanámi parametry neexistuje signifikantní závislost.')\n"
   ],
   "metadata": {
    "collapsed": false,
    "pycharm": {
     "name": "#%%\n"
    }
   }
  },
  {
   "cell_type": "markdown",
   "source": [
    "Test potvrdil s 95% jistotou následující hypotézu:\n",
    ">Pokud viník nehody byl pod silným vlivem alkoholu, došlo častěji k těžkým zdravotním\n",
    "následkům."
   ],
   "metadata": {
    "collapsed": false
   }
  }
 ],
 "metadata": {
  "kernelspec": {
   "name": "pycharm-211f010",
   "language": "python",
   "display_name": "PyCharm (project)"
  },
  "language_info": {
   "codemirror_mode": {
    "name": "ipython",
    "version": 2
   },
   "file_extension": ".py",
   "mimetype": "text/x-python",
   "name": "python",
   "nbconvert_exporter": "python",
   "pygments_lexer": "ipython2",
   "version": "2.7.6"
  }
 },
 "nbformat": 4,
 "nbformat_minor": 0
}